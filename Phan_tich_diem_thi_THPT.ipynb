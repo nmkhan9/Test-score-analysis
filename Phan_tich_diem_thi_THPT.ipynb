{
 "cells": [
  {
   "cell_type": "markdown",
   "id": "0c11ae3f-333f-46eb-909e-09124e6f6db1",
   "metadata": {},
   "source": [
    "### 📘 Analysis of High School Exam Scores (2022-2024)"
   ]
  },
  {
   "cell_type": "code",
   "execution_count": 1,
   "id": "f5aeca4c-498a-40c9-b05f-6e5aa60b7413",
   "metadata": {
    "tags": []
   },
   "outputs": [],
   "source": [
    "import pandas as pd\n",
    "import numpy as np\n",
    "import matplotlib.pyplot as plt\n",
    "import seaborn as sns\n",
    "import warnings\n",
    "warnings.filterwarnings('ignore')"
   ]
  },
  {
   "cell_type": "markdown",
   "id": "65a46cfc-ca41-4be6-ae1c-13977c4c7302",
   "metadata": {},
   "source": [
    "### 1. Load data"
   ]
  },
  {
   "cell_type": "code",
   "execution_count": 2,
   "id": "f44f0e5d-2ff7-48ba-8f1f-eddc175c1d5d",
   "metadata": {
    "tags": []
   },
   "outputs": [],
   "source": [
    "df_22=pd.read_csv('diem_thi_thpt_2022.csv')\n",
    "df_23=pd.read_csv('diem_thi_thpt_2023.csv')\n",
    "df_24=pd.read_csv('diem_thi_thpt_2024.csv')"
   ]
  },
  {
   "cell_type": "markdown",
   "id": "567dbc14-3239-4863-8ae0-c9b7a4bc1316",
   "metadata": {},
   "source": [
    "### 2. Data cleaning"
   ]
  },
  {
   "cell_type": "code",
   "execution_count": 3,
   "id": "ce9290ce-b73a-4fa3-a62d-3aead51deb62",
   "metadata": {
    "tags": []
   },
   "outputs": [
    {
     "data": {
      "text/html": [
       "<div>\n",
       "<style scoped>\n",
       "    .dataframe tbody tr th:only-of-type {\n",
       "        vertical-align: middle;\n",
       "    }\n",
       "\n",
       "    .dataframe tbody tr th {\n",
       "        vertical-align: top;\n",
       "    }\n",
       "\n",
       "    .dataframe thead th {\n",
       "        text-align: right;\n",
       "    }\n",
       "</style>\n",
       "<table border=\"1\" class=\"dataframe\">\n",
       "  <thead>\n",
       "    <tr style=\"text-align: right;\">\n",
       "      <th></th>\n",
       "      <th>sbd</th>\n",
       "      <th>toan</th>\n",
       "      <th>ngu_van</th>\n",
       "      <th>ngoai_ngu</th>\n",
       "      <th>vat_li</th>\n",
       "      <th>hoa_hoc</th>\n",
       "      <th>sinh_hoc</th>\n",
       "      <th>lich_su</th>\n",
       "      <th>dia_li</th>\n",
       "      <th>gdcd</th>\n",
       "    </tr>\n",
       "  </thead>\n",
       "  <tbody>\n",
       "    <tr>\n",
       "      <th>0</th>\n",
       "      <td>1000001</td>\n",
       "      <td>3.6</td>\n",
       "      <td>5.00</td>\n",
       "      <td>4.0</td>\n",
       "      <td>NaN</td>\n",
       "      <td>NaN</td>\n",
       "      <td>NaN</td>\n",
       "      <td>2.75</td>\n",
       "      <td>6.0</td>\n",
       "      <td>8.75</td>\n",
       "    </tr>\n",
       "    <tr>\n",
       "      <th>1</th>\n",
       "      <td>1000002</td>\n",
       "      <td>8.4</td>\n",
       "      <td>6.75</td>\n",
       "      <td>7.6</td>\n",
       "      <td>NaN</td>\n",
       "      <td>NaN</td>\n",
       "      <td>NaN</td>\n",
       "      <td>8.50</td>\n",
       "      <td>7.5</td>\n",
       "      <td>8.25</td>\n",
       "    </tr>\n",
       "    <tr>\n",
       "      <th>2</th>\n",
       "      <td>1000003</td>\n",
       "      <td>5.8</td>\n",
       "      <td>7.50</td>\n",
       "      <td>5.0</td>\n",
       "      <td>NaN</td>\n",
       "      <td>NaN</td>\n",
       "      <td>NaN</td>\n",
       "      <td>7.25</td>\n",
       "      <td>5.5</td>\n",
       "      <td>8.75</td>\n",
       "    </tr>\n",
       "    <tr>\n",
       "      <th>3</th>\n",
       "      <td>1000004</td>\n",
       "      <td>7.4</td>\n",
       "      <td>7.50</td>\n",
       "      <td>8.6</td>\n",
       "      <td>NaN</td>\n",
       "      <td>NaN</td>\n",
       "      <td>NaN</td>\n",
       "      <td>7.50</td>\n",
       "      <td>6.5</td>\n",
       "      <td>7.50</td>\n",
       "    </tr>\n",
       "    <tr>\n",
       "      <th>4</th>\n",
       "      <td>1000005</td>\n",
       "      <td>7.2</td>\n",
       "      <td>8.50</td>\n",
       "      <td>9.0</td>\n",
       "      <td>NaN</td>\n",
       "      <td>NaN</td>\n",
       "      <td>NaN</td>\n",
       "      <td>8.00</td>\n",
       "      <td>8.5</td>\n",
       "      <td>8.25</td>\n",
       "    </tr>\n",
       "  </tbody>\n",
       "</table>\n",
       "</div>"
      ],
      "text/plain": [
       "       sbd  toan  ngu_van  ngoai_ngu  vat_li  hoa_hoc  sinh_hoc  lich_su  \\\n",
       "0  1000001   3.6     5.00        4.0     NaN      NaN       NaN     2.75   \n",
       "1  1000002   8.4     6.75        7.6     NaN      NaN       NaN     8.50   \n",
       "2  1000003   5.8     7.50        5.0     NaN      NaN       NaN     7.25   \n",
       "3  1000004   7.4     7.50        8.6     NaN      NaN       NaN     7.50   \n",
       "4  1000005   7.2     8.50        9.0     NaN      NaN       NaN     8.00   \n",
       "\n",
       "   dia_li  gdcd  \n",
       "0     6.0  8.75  \n",
       "1     7.5  8.25  \n",
       "2     5.5  8.75  \n",
       "3     6.5  7.50  \n",
       "4     8.5  8.25  "
      ]
     },
     "execution_count": 3,
     "metadata": {},
     "output_type": "execute_result"
    }
   ],
   "source": [
    "df_22.sort_values(by='sbd').head()"
   ]
  },
  {
   "cell_type": "code",
   "execution_count": 4,
   "id": "a4d6c97a-5015-4fa3-af03-21cdd6e80ee0",
   "metadata": {
    "tags": []
   },
   "outputs": [
    {
     "data": {
      "text/html": [
       "<div>\n",
       "<style scoped>\n",
       "    .dataframe tbody tr th:only-of-type {\n",
       "        vertical-align: middle;\n",
       "    }\n",
       "\n",
       "    .dataframe tbody tr th {\n",
       "        vertical-align: top;\n",
       "    }\n",
       "\n",
       "    .dataframe thead th {\n",
       "        text-align: right;\n",
       "    }\n",
       "</style>\n",
       "<table border=\"1\" class=\"dataframe\">\n",
       "  <thead>\n",
       "    <tr style=\"text-align: right;\">\n",
       "      <th></th>\n",
       "      <th>sbd</th>\n",
       "      <th>toan</th>\n",
       "      <th>ngu_van</th>\n",
       "      <th>ngoai_ngu</th>\n",
       "      <th>vat_li</th>\n",
       "      <th>hoa_hoc</th>\n",
       "      <th>sinh_hoc</th>\n",
       "      <th>lich_su</th>\n",
       "      <th>dia_li</th>\n",
       "      <th>gdcd</th>\n",
       "      <th>ma_ngoai_ngu</th>\n",
       "    </tr>\n",
       "  </thead>\n",
       "  <tbody>\n",
       "    <tr>\n",
       "      <th>0</th>\n",
       "      <td>1000001</td>\n",
       "      <td>8.4</td>\n",
       "      <td>8.50</td>\n",
       "      <td>9.2</td>\n",
       "      <td>NaN</td>\n",
       "      <td>NaN</td>\n",
       "      <td>NaN</td>\n",
       "      <td>6.75</td>\n",
       "      <td>6.00</td>\n",
       "      <td>9.00</td>\n",
       "      <td>N1</td>\n",
       "    </tr>\n",
       "    <tr>\n",
       "      <th>1</th>\n",
       "      <td>1000002</td>\n",
       "      <td>7.2</td>\n",
       "      <td>8.50</td>\n",
       "      <td>9.2</td>\n",
       "      <td>NaN</td>\n",
       "      <td>NaN</td>\n",
       "      <td>NaN</td>\n",
       "      <td>8.75</td>\n",
       "      <td>6.50</td>\n",
       "      <td>8.50</td>\n",
       "      <td>N1</td>\n",
       "    </tr>\n",
       "    <tr>\n",
       "      <th>2</th>\n",
       "      <td>1000003</td>\n",
       "      <td>NaN</td>\n",
       "      <td>6.50</td>\n",
       "      <td>NaN</td>\n",
       "      <td>NaN</td>\n",
       "      <td>NaN</td>\n",
       "      <td>NaN</td>\n",
       "      <td>9.25</td>\n",
       "      <td>7.50</td>\n",
       "      <td>NaN</td>\n",
       "      <td>NaN</td>\n",
       "    </tr>\n",
       "    <tr>\n",
       "      <th>3</th>\n",
       "      <td>1000004</td>\n",
       "      <td>7.8</td>\n",
       "      <td>8.25</td>\n",
       "      <td>7.8</td>\n",
       "      <td>NaN</td>\n",
       "      <td>NaN</td>\n",
       "      <td>NaN</td>\n",
       "      <td>4.50</td>\n",
       "      <td>6.25</td>\n",
       "      <td>8.25</td>\n",
       "      <td>N1</td>\n",
       "    </tr>\n",
       "    <tr>\n",
       "      <th>4</th>\n",
       "      <td>1000005</td>\n",
       "      <td>7.2</td>\n",
       "      <td>8.00</td>\n",
       "      <td>7.8</td>\n",
       "      <td>NaN</td>\n",
       "      <td>NaN</td>\n",
       "      <td>NaN</td>\n",
       "      <td>4.75</td>\n",
       "      <td>6.75</td>\n",
       "      <td>8.25</td>\n",
       "      <td>N1</td>\n",
       "    </tr>\n",
       "  </tbody>\n",
       "</table>\n",
       "</div>"
      ],
      "text/plain": [
       "       sbd  toan  ngu_van  ngoai_ngu  vat_li  hoa_hoc  sinh_hoc  lich_su  \\\n",
       "0  1000001   8.4     8.50        9.2     NaN      NaN       NaN     6.75   \n",
       "1  1000002   7.2     8.50        9.2     NaN      NaN       NaN     8.75   \n",
       "2  1000003   NaN     6.50        NaN     NaN      NaN       NaN     9.25   \n",
       "3  1000004   7.8     8.25        7.8     NaN      NaN       NaN     4.50   \n",
       "4  1000005   7.2     8.00        7.8     NaN      NaN       NaN     4.75   \n",
       "\n",
       "   dia_li  gdcd ma_ngoai_ngu  \n",
       "0    6.00  9.00           N1  \n",
       "1    6.50  8.50           N1  \n",
       "2    7.50   NaN          NaN  \n",
       "3    6.25  8.25           N1  \n",
       "4    6.75  8.25           N1  "
      ]
     },
     "execution_count": 4,
     "metadata": {},
     "output_type": "execute_result"
    }
   ],
   "source": [
    "df_23.sort_values(by='sbd').head()"
   ]
  },
  {
   "cell_type": "code",
   "execution_count": 5,
   "id": "6bbdbc20-5d4a-4321-9bc6-87616a773268",
   "metadata": {
    "tags": []
   },
   "outputs": [
    {
     "data": {
      "text/html": [
       "<div>\n",
       "<style scoped>\n",
       "    .dataframe tbody tr th:only-of-type {\n",
       "        vertical-align: middle;\n",
       "    }\n",
       "\n",
       "    .dataframe tbody tr th {\n",
       "        vertical-align: top;\n",
       "    }\n",
       "\n",
       "    .dataframe thead th {\n",
       "        text-align: right;\n",
       "    }\n",
       "</style>\n",
       "<table border=\"1\" class=\"dataframe\">\n",
       "  <thead>\n",
       "    <tr style=\"text-align: right;\">\n",
       "      <th></th>\n",
       "      <th>sbd</th>\n",
       "      <th>toan</th>\n",
       "      <th>ngu_van</th>\n",
       "      <th>ngoai_ngu</th>\n",
       "      <th>vat_li</th>\n",
       "      <th>hoa_hoc</th>\n",
       "      <th>sinh_hoc</th>\n",
       "      <th>lich_su</th>\n",
       "      <th>dia_li</th>\n",
       "      <th>gdcd</th>\n",
       "      <th>ma_ngoai_ngu</th>\n",
       "    </tr>\n",
       "  </thead>\n",
       "  <tbody>\n",
       "    <tr>\n",
       "      <th>0</th>\n",
       "      <td>1000001</td>\n",
       "      <td>8.4</td>\n",
       "      <td>6.75</td>\n",
       "      <td>8.0</td>\n",
       "      <td>6.0</td>\n",
       "      <td>5.25</td>\n",
       "      <td>5.0</td>\n",
       "      <td>NaN</td>\n",
       "      <td>NaN</td>\n",
       "      <td>NaN</td>\n",
       "      <td>N1</td>\n",
       "    </tr>\n",
       "    <tr>\n",
       "      <th>1</th>\n",
       "      <td>1000002</td>\n",
       "      <td>8.6</td>\n",
       "      <td>8.50</td>\n",
       "      <td>7.2</td>\n",
       "      <td>NaN</td>\n",
       "      <td>NaN</td>\n",
       "      <td>NaN</td>\n",
       "      <td>7.25</td>\n",
       "      <td>6.00</td>\n",
       "      <td>8.00</td>\n",
       "      <td>N1</td>\n",
       "    </tr>\n",
       "    <tr>\n",
       "      <th>2</th>\n",
       "      <td>1000003</td>\n",
       "      <td>8.2</td>\n",
       "      <td>8.75</td>\n",
       "      <td>8.2</td>\n",
       "      <td>NaN</td>\n",
       "      <td>NaN</td>\n",
       "      <td>NaN</td>\n",
       "      <td>7.25</td>\n",
       "      <td>7.25</td>\n",
       "      <td>8.75</td>\n",
       "      <td>N1</td>\n",
       "    </tr>\n",
       "    <tr>\n",
       "      <th>3</th>\n",
       "      <td>1000004</td>\n",
       "      <td>4.8</td>\n",
       "      <td>8.50</td>\n",
       "      <td>7.4</td>\n",
       "      <td>NaN</td>\n",
       "      <td>NaN</td>\n",
       "      <td>NaN</td>\n",
       "      <td>7.00</td>\n",
       "      <td>6.00</td>\n",
       "      <td>7.50</td>\n",
       "      <td>N1</td>\n",
       "    </tr>\n",
       "    <tr>\n",
       "      <th>4</th>\n",
       "      <td>1000005</td>\n",
       "      <td>8.6</td>\n",
       "      <td>9.00</td>\n",
       "      <td>7.8</td>\n",
       "      <td>NaN</td>\n",
       "      <td>NaN</td>\n",
       "      <td>NaN</td>\n",
       "      <td>9.00</td>\n",
       "      <td>8.75</td>\n",
       "      <td>8.50</td>\n",
       "      <td>N1</td>\n",
       "    </tr>\n",
       "  </tbody>\n",
       "</table>\n",
       "</div>"
      ],
      "text/plain": [
       "       sbd  toan  ngu_van  ngoai_ngu  vat_li  hoa_hoc  sinh_hoc  lich_su  \\\n",
       "0  1000001   8.4     6.75        8.0     6.0     5.25       5.0      NaN   \n",
       "1  1000002   8.6     8.50        7.2     NaN      NaN       NaN     7.25   \n",
       "2  1000003   8.2     8.75        8.2     NaN      NaN       NaN     7.25   \n",
       "3  1000004   4.8     8.50        7.4     NaN      NaN       NaN     7.00   \n",
       "4  1000005   8.6     9.00        7.8     NaN      NaN       NaN     9.00   \n",
       "\n",
       "   dia_li  gdcd ma_ngoai_ngu  \n",
       "0     NaN   NaN           N1  \n",
       "1    6.00  8.00           N1  \n",
       "2    7.25  8.75           N1  \n",
       "3    6.00  7.50           N1  \n",
       "4    8.75  8.50           N1  "
      ]
     },
     "execution_count": 5,
     "metadata": {},
     "output_type": "execute_result"
    }
   ],
   "source": [
    "df_24.sort_values(by='sbd').head()"
   ]
  },
  {
   "cell_type": "code",
   "execution_count": 6,
   "id": "18b666c6-4171-4a7e-8b1c-ab286e9ba0a3",
   "metadata": {
    "tags": []
   },
   "outputs": [],
   "source": [
    "df_22['ma_ngoai_ngu']='none'"
   ]
  },
  {
   "cell_type": "code",
   "execution_count": 7,
   "id": "8c62d7c8-1692-4afd-a62e-cf57139259b9",
   "metadata": {
    "tags": []
   },
   "outputs": [],
   "source": [
    "df_22['year']='2022'\n",
    "df_23['year']='2023'\n",
    "df_24['year']='2024'"
   ]
  },
  {
   "cell_type": "code",
   "execution_count": 8,
   "id": "089f6711-1828-410e-bd17-f1ce8ccbab95",
   "metadata": {
    "tags": []
   },
   "outputs": [
    {
     "data": {
      "text/html": [
       "<div>\n",
       "<style scoped>\n",
       "    .dataframe tbody tr th:only-of-type {\n",
       "        vertical-align: middle;\n",
       "    }\n",
       "\n",
       "    .dataframe tbody tr th {\n",
       "        vertical-align: top;\n",
       "    }\n",
       "\n",
       "    .dataframe thead th {\n",
       "        text-align: right;\n",
       "    }\n",
       "</style>\n",
       "<table border=\"1\" class=\"dataframe\">\n",
       "  <thead>\n",
       "    <tr style=\"text-align: right;\">\n",
       "      <th></th>\n",
       "      <th>sbd</th>\n",
       "      <th>toan</th>\n",
       "      <th>ngu_van</th>\n",
       "      <th>ngoai_ngu</th>\n",
       "      <th>vat_li</th>\n",
       "      <th>hoa_hoc</th>\n",
       "      <th>sinh_hoc</th>\n",
       "      <th>lich_su</th>\n",
       "      <th>dia_li</th>\n",
       "      <th>gdcd</th>\n",
       "      <th>ma_ngoai_ngu</th>\n",
       "      <th>year</th>\n",
       "    </tr>\n",
       "  </thead>\n",
       "  <tbody>\n",
       "    <tr>\n",
       "      <th>0</th>\n",
       "      <td>1000001</td>\n",
       "      <td>3.6</td>\n",
       "      <td>5.00</td>\n",
       "      <td>4.0</td>\n",
       "      <td>NaN</td>\n",
       "      <td>NaN</td>\n",
       "      <td>NaN</td>\n",
       "      <td>2.75</td>\n",
       "      <td>6.0</td>\n",
       "      <td>8.75</td>\n",
       "      <td>none</td>\n",
       "      <td>2022</td>\n",
       "    </tr>\n",
       "    <tr>\n",
       "      <th>1</th>\n",
       "      <td>1000002</td>\n",
       "      <td>8.4</td>\n",
       "      <td>6.75</td>\n",
       "      <td>7.6</td>\n",
       "      <td>NaN</td>\n",
       "      <td>NaN</td>\n",
       "      <td>NaN</td>\n",
       "      <td>8.50</td>\n",
       "      <td>7.5</td>\n",
       "      <td>8.25</td>\n",
       "      <td>none</td>\n",
       "      <td>2022</td>\n",
       "    </tr>\n",
       "  </tbody>\n",
       "</table>\n",
       "</div>"
      ],
      "text/plain": [
       "       sbd  toan  ngu_van  ngoai_ngu  vat_li  hoa_hoc  sinh_hoc  lich_su  \\\n",
       "0  1000001   3.6     5.00        4.0     NaN      NaN       NaN     2.75   \n",
       "1  1000002   8.4     6.75        7.6     NaN      NaN       NaN     8.50   \n",
       "\n",
       "   dia_li  gdcd ma_ngoai_ngu  year  \n",
       "0     6.0  8.75         none  2022  \n",
       "1     7.5  8.25         none  2022  "
      ]
     },
     "execution_count": 8,
     "metadata": {},
     "output_type": "execute_result"
    }
   ],
   "source": [
    "df_22.head(2)"
   ]
  },
  {
   "cell_type": "code",
   "execution_count": 9,
   "id": "83ed2329-aa16-4c36-92bb-e6bef11c9d31",
   "metadata": {
    "tags": []
   },
   "outputs": [],
   "source": [
    "df_data_all=(pd.concat([df_22,df_23,df_24],ignore_index=True))"
   ]
  },
  {
   "cell_type": "code",
   "execution_count": 10,
   "id": "f55bc2d0-0a5e-4d9a-94a8-cb80544f73a5",
   "metadata": {
    "tags": []
   },
   "outputs": [
    {
     "name": "stdout",
     "output_type": "stream",
     "text": [
      "<class 'pandas.core.frame.DataFrame'>\n",
      "RangeIndex: 3079106 entries, 0 to 3079105\n",
      "Data columns (total 12 columns):\n",
      " #   Column        Dtype  \n",
      "---  ------        -----  \n",
      " 0   sbd           int64  \n",
      " 1   toan          float64\n",
      " 2   ngu_van       float64\n",
      " 3   ngoai_ngu     float64\n",
      " 4   vat_li        float64\n",
      " 5   hoa_hoc       float64\n",
      " 6   sinh_hoc      float64\n",
      " 7   lich_su       float64\n",
      " 8   dia_li        float64\n",
      " 9   gdcd          float64\n",
      " 10  ma_ngoai_ngu  object \n",
      " 11  year          object \n",
      "dtypes: float64(9), int64(1), object(2)\n",
      "memory usage: 281.9+ MB\n"
     ]
    }
   ],
   "source": [
    "df_data_all.info()"
   ]
  },
  {
   "cell_type": "code",
   "execution_count": 11,
   "id": "dbb9f3c5-70ed-4415-881c-2b7ec2643965",
   "metadata": {
    "tags": []
   },
   "outputs": [
    {
     "data": {
      "text/plain": [
       "array(['2022', '2023', '2024'], dtype=object)"
      ]
     },
     "execution_count": 11,
     "metadata": {},
     "output_type": "execute_result"
    }
   ],
   "source": [
    "df_data_all['year'].unique()"
   ]
  },
  {
   "cell_type": "code",
   "execution_count": 12,
   "id": "c1668ee8-4fa6-42ca-a26a-838ba6162b92",
   "metadata": {
    "tags": []
   },
   "outputs": [],
   "source": [
    "data=df_data_all"
   ]
  },
  {
   "cell_type": "code",
   "execution_count": 13,
   "id": "0dc84e6d-4aa6-4b63-9fa4-a0c232258f64",
   "metadata": {
    "tags": []
   },
   "outputs": [],
   "source": [
    "students_per_year=data['year'].value_counts().sort_index()"
   ]
  },
  {
   "cell_type": "code",
   "execution_count": 14,
   "id": "4654b17a-be58-498c-be06-5cc08e35005e",
   "metadata": {
    "tags": []
   },
   "outputs": [],
   "source": [
    "growth_rate=students_per_year.pct_change() * 100"
   ]
  },
  {
   "cell_type": "code",
   "execution_count": 15,
   "id": "2591c077-b180-463c-84bd-847e1a6f5215",
   "metadata": {},
   "outputs": [],
   "source": [
    "students_growth_df = pd.DataFrame({\n",
    "    'so_luong_thi_sinh': students_per_year,\n",
    "    'ty_le_tang_truong': growth_rate\n",
    "}).reset_index().rename(columns={'index': 'year'})\n"
   ]
  },
  {
   "cell_type": "code",
   "execution_count": 16,
   "id": "fbad5cf2-4d41-4d31-ba6a-5375e19fbb95",
   "metadata": {
    "tags": []
   },
   "outputs": [
    {
     "data": {
      "text/html": [
       "<div>\n",
       "<style scoped>\n",
       "    .dataframe tbody tr th:only-of-type {\n",
       "        vertical-align: middle;\n",
       "    }\n",
       "\n",
       "    .dataframe tbody tr th {\n",
       "        vertical-align: top;\n",
       "    }\n",
       "\n",
       "    .dataframe thead th {\n",
       "        text-align: right;\n",
       "    }\n",
       "</style>\n",
       "<table border=\"1\" class=\"dataframe\">\n",
       "  <thead>\n",
       "    <tr style=\"text-align: right;\">\n",
       "      <th></th>\n",
       "      <th>year</th>\n",
       "      <th>so_luong_thi_sinh</th>\n",
       "      <th>ty_le_tang_truong</th>\n",
       "    </tr>\n",
       "  </thead>\n",
       "  <tbody>\n",
       "    <tr>\n",
       "      <th>0</th>\n",
       "      <td>2022</td>\n",
       "      <td>995441</td>\n",
       "      <td>NaN</td>\n",
       "    </tr>\n",
       "    <tr>\n",
       "      <th>1</th>\n",
       "      <td>2023</td>\n",
       "      <td>1022060</td>\n",
       "      <td>2.674091</td>\n",
       "    </tr>\n",
       "    <tr>\n",
       "      <th>2</th>\n",
       "      <td>2024</td>\n",
       "      <td>1061605</td>\n",
       "      <td>3.869147</td>\n",
       "    </tr>\n",
       "  </tbody>\n",
       "</table>\n",
       "</div>"
      ],
      "text/plain": [
       "   year  so_luong_thi_sinh  ty_le_tang_truong\n",
       "0  2022             995441                NaN\n",
       "1  2023            1022060           2.674091\n",
       "2  2024            1061605           3.869147"
      ]
     },
     "execution_count": 16,
     "metadata": {},
     "output_type": "execute_result"
    }
   ],
   "source": [
    "students_growth_df"
   ]
  },
  {
   "cell_type": "markdown",
   "id": "95b4881f-5fcd-48e0-8f4b-a2d64d8dce4d",
   "metadata": {},
   "source": [
    "### 3. Analyst"
   ]
  },
  {
   "cell_type": "code",
   "execution_count": 17,
   "id": "3c266f94-bd5d-4ef2-9da5-4c643768392a",
   "metadata": {
    "tags": []
   },
   "outputs": [
    {
     "data": {
      "image/png": "[encoded data removed]",
      "text/plain": [
       "<Figure size 400x600 with 2 Axes>"
      ]
     },
     "metadata": {},
     "output_type": "display_data"
    }
   ],
   "source": [
    "fig,axes = plt.subplots(2,1,figsize=(4,6))\n",
    "\n",
    "sns.barplot(\n",
    "    data=students_growth_df,\n",
    "    x='year',\n",
    "    y='so_luong_thi_sinh',\n",
    "    ax=axes[0]\n",
    ")\n",
    "axes[0].set_title('Số lượng thí sinh qua các năm')\n",
    "axes[0].set_xlabel('Năm')\n",
    "axes[0].set_ylabel('Số lượng')\n",
    "\n",
    "\n",
    "sns.barplot(\n",
    "    data=students_growth_df,\n",
    "    x='year',\n",
    "    y='ty_le_tang_truong',\n",
    "    ax=axes[1]\n",
    ")\n",
    "axes[1].set_title('Tỷ lệ tăng trưởng qua các năm')\n",
    "axes[1].set_ylabel('Tỷ lệ tăng trưởng (%)')\n",
    "axes[1].set_xlabel('Năm')\n",
    "plt.tight_layout()\n",
    "plt.show()"
   ]
  },
  {
   "cell_type": "markdown",
   "id": "7e0dde20-7adb-4985-b633-30978d04fab4",
   "metadata": {},
   "source": [
    "### Score distribution over years"
   ]
  },
  {
   "cell_type": "code",
   "execution_count": 18,
   "id": "fca8cd8e-222e-40dc-96ec-1edb37c9edba",
   "metadata": {
    "tags": []
   },
   "outputs": [
    {
     "data": {
      "text/html": [
       "<div>\n",
       "<style scoped>\n",
       "    .dataframe tbody tr th:only-of-type {\n",
       "        vertical-align: middle;\n",
       "    }\n",
       "\n",
       "    .dataframe tbody tr th {\n",
       "        vertical-align: top;\n",
       "    }\n",
       "\n",
       "    .dataframe thead th {\n",
       "        text-align: right;\n",
       "    }\n",
       "</style>\n",
       "<table border=\"1\" class=\"dataframe\">\n",
       "  <thead>\n",
       "    <tr style=\"text-align: right;\">\n",
       "      <th></th>\n",
       "      <th>sbd</th>\n",
       "      <th>toan</th>\n",
       "      <th>ngu_van</th>\n",
       "      <th>ngoai_ngu</th>\n",
       "      <th>vat_li</th>\n",
       "      <th>hoa_hoc</th>\n",
       "      <th>sinh_hoc</th>\n",
       "      <th>lich_su</th>\n",
       "      <th>dia_li</th>\n",
       "      <th>gdcd</th>\n",
       "      <th>ma_ngoai_ngu</th>\n",
       "      <th>year</th>\n",
       "    </tr>\n",
       "  </thead>\n",
       "  <tbody>\n",
       "    <tr>\n",
       "      <th>0</th>\n",
       "      <td>1000001</td>\n",
       "      <td>3.6</td>\n",
       "      <td>5.00</td>\n",
       "      <td>4.0</td>\n",
       "      <td>NaN</td>\n",
       "      <td>NaN</td>\n",
       "      <td>NaN</td>\n",
       "      <td>2.75</td>\n",
       "      <td>6.0</td>\n",
       "      <td>8.75</td>\n",
       "      <td>none</td>\n",
       "      <td>2022</td>\n",
       "    </tr>\n",
       "    <tr>\n",
       "      <th>1</th>\n",
       "      <td>1000002</td>\n",
       "      <td>8.4</td>\n",
       "      <td>6.75</td>\n",
       "      <td>7.6</td>\n",
       "      <td>NaN</td>\n",
       "      <td>NaN</td>\n",
       "      <td>NaN</td>\n",
       "      <td>8.50</td>\n",
       "      <td>7.5</td>\n",
       "      <td>8.25</td>\n",
       "      <td>none</td>\n",
       "      <td>2022</td>\n",
       "    </tr>\n",
       "  </tbody>\n",
       "</table>\n",
       "</div>"
      ],
      "text/plain": [
       "       sbd  toan  ngu_van  ngoai_ngu  vat_li  hoa_hoc  sinh_hoc  lich_su  \\\n",
       "0  1000001   3.6     5.00        4.0     NaN      NaN       NaN     2.75   \n",
       "1  1000002   8.4     6.75        7.6     NaN      NaN       NaN     8.50   \n",
       "\n",
       "   dia_li  gdcd ma_ngoai_ngu  year  \n",
       "0     6.0  8.75         none  2022  \n",
       "1     7.5  8.25         none  2022  "
      ]
     },
     "execution_count": 18,
     "metadata": {},
     "output_type": "execute_result"
    }
   ],
   "source": [
    "data.head(2)"
   ]
  },
  {
   "cell_type": "code",
   "execution_count": 19,
   "id": "a654839c-7099-4cb6-9f14-cd5652bb654c",
   "metadata": {
    "tags": []
   },
   "outputs": [],
   "source": [
    "data['year']=pd.to_numeric(data.year)"
   ]
  },
  {
   "cell_type": "code",
   "execution_count": 20,
   "id": "e67c2078-1273-4c20-b4c3-d140d56f7a1a",
   "metadata": {
    "tags": []
   },
   "outputs": [],
   "source": [
    "subjects=['toan','ngu_van','ngoai_ngu','vat_li','hoa_hoc','sinh_hoc','lich_su','dia_li','gdcd']\n",
    "mean_score_by_year=data.groupby('year')[subjects].mean().reset_index()"
   ]
  },
  {
   "cell_type": "code",
   "execution_count": 21,
   "id": "b5db4c03-54e4-4122-b16e-6d22d6f7513b",
   "metadata": {
    "tags": []
   },
   "outputs": [
    {
     "data": {
      "text/html": [
       "<div>\n",
       "<style scoped>\n",
       "    .dataframe tbody tr th:only-of-type {\n",
       "        vertical-align: middle;\n",
       "    }\n",
       "\n",
       "    .dataframe tbody tr th {\n",
       "        vertical-align: top;\n",
       "    }\n",
       "\n",
       "    .dataframe thead th {\n",
       "        text-align: right;\n",
       "    }\n",
       "</style>\n",
       "<table border=\"1\" class=\"dataframe\">\n",
       "  <thead>\n",
       "    <tr style=\"text-align: right;\">\n",
       "      <th></th>\n",
       "      <th>year</th>\n",
       "      <th>toan</th>\n",
       "      <th>ngu_van</th>\n",
       "      <th>ngoai_ngu</th>\n",
       "      <th>vat_li</th>\n",
       "      <th>hoa_hoc</th>\n",
       "      <th>sinh_hoc</th>\n",
       "      <th>lich_su</th>\n",
       "      <th>dia_li</th>\n",
       "      <th>gdcd</th>\n",
       "    </tr>\n",
       "  </thead>\n",
       "  <tbody>\n",
       "    <tr>\n",
       "      <th>0</th>\n",
       "      <td>2022</td>\n",
       "      <td>6.466254</td>\n",
       "      <td>6.507746</td>\n",
       "      <td>5.157686</td>\n",
       "      <td>6.723779</td>\n",
       "      <td>6.703898</td>\n",
       "      <td>5.019109</td>\n",
       "      <td>6.343930</td>\n",
       "      <td>6.677929</td>\n",
       "      <td>8.033266</td>\n",
       "    </tr>\n",
       "    <tr>\n",
       "      <th>1</th>\n",
       "      <td>2023</td>\n",
       "      <td>6.250557</td>\n",
       "      <td>6.858194</td>\n",
       "      <td>5.462410</td>\n",
       "      <td>6.573900</td>\n",
       "      <td>6.744646</td>\n",
       "      <td>6.394933</td>\n",
       "      <td>6.025629</td>\n",
       "      <td>6.147523</td>\n",
       "      <td>8.285805</td>\n",
       "    </tr>\n",
       "    <tr>\n",
       "      <th>2</th>\n",
       "      <td>2024</td>\n",
       "      <td>6.447309</td>\n",
       "      <td>7.231146</td>\n",
       "      <td>5.521938</td>\n",
       "      <td>6.666866</td>\n",
       "      <td>6.680830</td>\n",
       "      <td>6.284079</td>\n",
       "      <td>6.570343</td>\n",
       "      <td>7.193541</td>\n",
       "      <td>8.156503</td>\n",
       "    </tr>\n",
       "  </tbody>\n",
       "</table>\n",
       "</div>"
      ],
      "text/plain": [
       "   year      toan   ngu_van  ngoai_ngu    vat_li   hoa_hoc  sinh_hoc  \\\n",
       "0  2022  6.466254  6.507746   5.157686  6.723779  6.703898  5.019109   \n",
       "1  2023  6.250557  6.858194   5.462410  6.573900  6.744646  6.394933   \n",
       "2  2024  6.447309  7.231146   5.521938  6.666866  6.680830  6.284079   \n",
       "\n",
       "    lich_su    dia_li      gdcd  \n",
       "0  6.343930  6.677929  8.033266  \n",
       "1  6.025629  6.147523  8.285805  \n",
       "2  6.570343  7.193541  8.156503  "
      ]
     },
     "execution_count": 21,
     "metadata": {},
     "output_type": "execute_result"
    }
   ],
   "source": [
    "mean_score_by_year"
   ]
  },
  {
   "cell_type": "markdown",
   "id": "521bacf1-e3eb-4dc1-86ff-5864594d6872",
   "metadata": {},
   "source": [
    "### Average score for each subject over the years"
   ]
  },
  {
   "cell_type": "code",
   "execution_count": 22,
   "id": "9020bbc4-a781-4a5d-b9c0-42a21e4f62ed",
   "metadata": {
    "tags": []
   },
   "outputs": [],
   "source": [
    "x_year=[2022,2023,2024]"
   ]
  },
  {
   "cell_type": "code",
   "execution_count": 23,
   "id": "c7a91bc6-7fea-4cb0-ad4a-14a73df2922a",
   "metadata": {
    "tags": []
   },
   "outputs": [
    {
     "data": {
      "image/png": "[encoded data removed]",
      "text/plain": [
       "<Figure size 800x600 with 1 Axes>"
      ]
     },
     "metadata": {},
     "output_type": "display_data"
    }
   ],
   "source": [
    "from scipy.interpolate import make_interp_spline\n",
    "plt.figure(figsize=(8,6))\n",
    "for i in subjects :\n",
    "    x=mean_score_by_year['year']\n",
    "    y=mean_score_by_year[i]\n",
    "    \n",
    "    x_new=np.linspace(x.min(),x.max(),300)\n",
    "    spline_function = make_interp_spline(x, y, k=2)\n",
    "    y_new=spline_function(x_new)\n",
    "    plt.plot(\n",
    "        x_new,\n",
    "        y_new,\n",
    "        label=i,\n",
    "        linewidth=2.5,\n",
    "        alpha=1\n",
    "    )\n",
    "plt.title('Diem_trung_binh_cac_mon_qua_tung_nam')\n",
    "plt.xlabel('Nam')\n",
    "plt.ylabel('Diem_trung_binh')\n",
    "plt.xticks(x_year)\n",
    "plt.legend(loc='upper right',bbox_to_anchor=(1.2,1))\n",
    "plt.grid(False)\n",
    "plt.tight_layout()\n",
    "plt.show()"
   ]
  },
  {
   "cell_type": "markdown",
   "id": "eebb002c-a50f-484e-bcce-c09dd0c407a5",
   "metadata": {},
   "source": [
    "### Scores for each subject over the years"
   ]
  },
  {
   "cell_type": "code",
   "execution_count": 24,
   "id": "a25a214f-ddd0-47fd-b2b0-e14a5488bd53",
   "metadata": {
    "tags": []
   },
   "outputs": [],
   "source": [
    "subjects=['toan','ngu_van','ngoai_ngu','vat_li','hoa_hoc','sinh_hoc','lich_su','dia_li']"
   ]
  },
  {
   "cell_type": "code",
   "execution_count": 25,
   "id": "ff87fd3e-7602-4a9a-99a3-5219e058304f",
   "metadata": {
    "tags": []
   },
   "outputs": [
    {
     "data": {
      "text/plain": [
       "[2022, 2023, 2024]"
      ]
     },
     "execution_count": 25,
     "metadata": {},
     "output_type": "execute_result"
    }
   ],
   "source": [
    "x_year"
   ]
  },
  {
   "cell_type": "code",
   "execution_count": 26,
   "id": "6dc084c3-a05b-4a7b-a9b8-36101c24992c",
   "metadata": {
    "tags": []
   },
   "outputs": [],
   "source": [
    "title=['Toán','Văn','Anh','Lí','Hóa','Sinh','Sử','Địa','CD']"
   ]
  },
  {
   "cell_type": "code",
   "execution_count": null,
   "id": "e25dc561-40dd-476a-a40e-fd81fc403bda",
   "metadata": {
    "tags": []
   },
   "outputs": [],
   "source": [
    "colors = ['b', 'g', 'r', 'c', 'm', 'y', 'k', '#808080']\n",
    "fig, axes =plt.subplots(3,8, figsize=(15,5))\n",
    "for i, year in enumerate(x_year):\n",
    "    for j,(subject,color) in enumerate(zip(subjects,colors)):\n",
    "        sns.histplot(\n",
    "            data[data.year==year][subject],\n",
    "            ax=axes[i,j],\n",
    "            bins=20,\n",
    "            kde=False,\n",
    "            edgecolor='black',\n",
    "            color=color\n",
    "        )\n",
    "        axes[i,j].set_title(f'{title[j]} {year}')\n",
    "        axes[i,j].set_xlabel(f'Diem {title[j]}')\n",
    "        axes[i,j].set_ylabel('#')\n",
    "plt.tight_layout()\n",
    "plt.show()"
   ]
  },
  {
   "cell_type": "markdown",
   "id": "9217c300-6b93-415a-b71e-8436900d1069",
   "metadata": {},
   "source": [
    "### Subject"
   ]
  },
  {
   "cell_type": "code",
   "execution_count": null,
   "id": "00ce5db0-2704-4720-b037-defde06a449c",
   "metadata": {
    "tags": []
   },
   "outputs": [],
   "source": [
    "fig, axes=plt.subplots(3,1,figsize=(6,8))\n",
    "for i,year in enumerate(x_year):\n",
    "    sns.histplot(\n",
    "        data[data.year==year]['toan'],\n",
    "        ax=axes[i],\n",
    "        bins=20,\n",
    "        kde=False,\n",
    "        edgecolor='black',\n",
    "        color='g'\n",
    "    )\n",
    "    axes[i].set_title(f'{year}')\n",
    "    axes[i].set_xlabel('Điểm_Toán')\n",
    "    axes[i].set_ylabel('Số_lượng')\n",
    "    \n",
    "    year_data=data[data.year==year]['toan'].dropna()\n",
    "    mean=year_data.mean()\n",
    "    median=year_data.median()\n",
    "    std=year_data.std()\n",
    "    Q1=year_data.quantile(0.25)\n",
    "    Q3=year_data.quantile(0.75)\n",
    "    p85=year_data.quantile(0.85)\n",
    "    p90=year_data.quantile(0.90)\n",
    "    p95=year_data.quantile(0.95)\n",
    "    p99=year_data.quantile(0.99)\n",
    "    \n",
    "    text_str=(\n",
    "        f'Mean= {mean:.2f}\\nMedian= {median:.2f}\\nSTD= {std:.2f}\\n'\n",
    "        f'Q1= {Q1:.2f}\\nQ3= {Q3:.2f}\\n'\n",
    "        f'P85= {p85:.2f}\\nP90= {p90:.2f}\\nP95= {p95:.2f}\\nP99= {p99:.2f}'\n",
    "    )\n",
    "    props=dict(boxstyle='round',facecolor='wheat',alpha=0.5)\n",
    "    axes[i].text(1.05, 0.5, text_str, transform=axes[i].transAxes, fontsize=8.5,\n",
    "                va='center', ha='left', bbox=props)\n",
    "plt.xticks(range(0,11,1))\n",
    "plt.tight_layout()\n",
    "plt.show()"
   ]
  },
  {
   "cell_type": "code",
   "execution_count": null,
   "id": "8227d280-5f1c-41f3-8957-a8a2826b05e0",
   "metadata": {
    "tags": []
   },
   "outputs": [],
   "source": [
    "fig, axes=plt.subplots(3,1,figsize=(6,8))\n",
    "for i,year in enumerate(x_year):\n",
    "    sns.histplot(\n",
    "        data[data.year==year]['ngu_van'],\n",
    "        ax=axes[i],\n",
    "        bins=20,\n",
    "        kde=False,\n",
    "        edgecolor='black',\n",
    "        color='orange'\n",
    "    )\n",
    "    axes[i].set_title(f'{year}')\n",
    "    axes[i].set_xlabel('Điểm_Văn')\n",
    "    axes[i].set_ylabel('Số_lượng')\n",
    "    \n",
    "    year_data=data[data.year==year]['ngu_van'].dropna()\n",
    "    mean=year_data.mean()\n",
    "    median=year_data.median()\n",
    "    std=year_data.std()\n",
    "    Q1=year_data.quantile(0.25)\n",
    "    Q3=year_data.quantile(0.75)\n",
    "    p85=year_data.quantile(0.85)\n",
    "    p90=year_data.quantile(0.90)\n",
    "    p95=year_data.quantile(0.95)\n",
    "    p99=year_data.quantile(0.99)\n",
    "    \n",
    "    text_str=(\n",
    "        f'Mean= {mean:.2f}\\nMedian= {median:.2f}\\nSTD= {std:.2f}\\n'\n",
    "        f'Q1= {Q1:.2f}\\nQ3= {Q3:.2f}\\n'\n",
    "        f'P85= {p85:.2f}\\nP90= {p90:.2f}\\nP95= {p95:.2f}\\nP99= {p99:.2f}'\n",
    "    )\n",
    "    props=dict(boxstyle='round',facecolor='wheat',alpha=0.5)\n",
    "    axes[i].text(1.05, 0.5, text_str, transform=axes[i].transAxes, fontsize=8.5,\n",
    "                va='center', ha='left', bbox=props)\n",
    "plt.xticks(range(0,11,1))\n",
    "plt.tight_layout()\n",
    "plt.show()"
   ]
  },
  {
   "cell_type": "code",
   "execution_count": null,
   "id": "bb247bd8-d78d-4b5a-9b2a-59780a72ddc2",
   "metadata": {
    "tags": []
   },
   "outputs": [],
   "source": [
    "fig, axes=plt.subplots(3,1,figsize=(6,8))\n",
    "for i,year in enumerate(x_year):\n",
    "    sns.histplot(\n",
    "        data[data.year==year]['vat_li'],\n",
    "        ax=axes[i],\n",
    "        bins=20,\n",
    "        kde=False,\n",
    "        edgecolor='black',\n",
    "        color='y'\n",
    "    )\n",
    "    axes[i].set_title(f'{year}')\n",
    "    axes[i].set_xlabel('Điểm_Vật_lí')\n",
    "    axes[i].set_ylabel('Số_lượng')\n",
    "    \n",
    "    year_data=data[data.year==year]['vat_li'].dropna()\n",
    "    mean=year_data.mean()\n",
    "    median=year_data.median()\n",
    "    std=year_data.std()\n",
    "    Q1=year_data.quantile(0.25)\n",
    "    Q3=year_data.quantile(0.75)\n",
    "    p85=year_data.quantile(0.85)\n",
    "    p90=year_data.quantile(0.90)\n",
    "    p95=year_data.quantile(0.95)\n",
    "    p99=year_data.quantile(0.99)\n",
    "    \n",
    "    text_str=(\n",
    "        f'Mean= {mean:.2f}\\nMedian= {median:.2f}\\nSTD= {std:.2f}\\n'\n",
    "        f'Q1= {Q1:.2f}\\nQ3= {Q3:.2f}\\n'\n",
    "        f'P85= {p85:.2f}\\nP90= {p90:.2f}\\nP95= {p95:.2f}\\nP99= {p99:.2f}'\n",
    "    )\n",
    "    props=dict(boxstyle='round',facecolor='wheat',alpha=0.5)\n",
    "    axes[i].text(1.05, 0.5, text_str, transform=axes[i].transAxes, fontsize=8.5,\n",
    "                va='center', ha='left', bbox=props)\n",
    "plt.xticks(range(0,11,1))\n",
    "plt.tight_layout()\n",
    "plt.show()"
   ]
  },
  {
   "cell_type": "markdown",
   "id": "64dee21c-42ed-411f-937a-0db5a638c663",
   "metadata": {},
   "source": [
    "### Compare with previous years"
   ]
  },
  {
   "cell_type": "code",
   "execution_count": null,
   "id": "7fed9f19-49e7-40e0-967e-1f65e3c00ef6",
   "metadata": {
    "tags": []
   },
   "outputs": [],
   "source": [
    "data.info()"
   ]
  },
  {
   "cell_type": "code",
   "execution_count": null,
   "id": "dc04313f-5814-44aa-90ef-deef34c3c5bc",
   "metadata": {
    "tags": []
   },
   "outputs": [],
   "source": [
    "sampled_data=data.sample(frac=0.3,random_state=1)"
   ]
  },
  {
   "cell_type": "code",
   "execution_count": null,
   "id": "b26cf35c-157e-472f-ab51-4c06e1189044",
   "metadata": {
    "tags": []
   },
   "outputs": [],
   "source": [
    "sampled_data.head()"
   ]
  },
  {
   "cell_type": "code",
   "execution_count": null,
   "id": "2ed2aa0a-0d66-4a46-a4bc-0c218569e581",
   "metadata": {
    "tags": []
   },
   "outputs": [],
   "source": [
    "sampled_data.info()"
   ]
  },
  {
   "cell_type": "code",
   "execution_count": null,
   "id": "40669c8c-39f1-4a97-9540-b578ac5125c0",
   "metadata": {
    "tags": []
   },
   "outputs": [],
   "source": [
    "x_year"
   ]
  },
  {
   "cell_type": "code",
   "execution_count": null,
   "id": "0af869bc-8afc-4450-aaed-8b520da91084",
   "metadata": {
    "tags": []
   },
   "outputs": [],
   "source": [
    "df_filtered=sampled_data"
   ]
  },
  {
   "cell_type": "code",
   "execution_count": null,
   "id": "37ddcaa7-9900-4552-b496-c85a3e3a2581",
   "metadata": {
    "tags": []
   },
   "outputs": [],
   "source": [
    "df_filtered.year.unique()"
   ]
  },
  {
   "cell_type": "code",
   "execution_count": null,
   "id": "4f157e80-d62a-4ced-b581-c80700db399c",
   "metadata": {
    "tags": []
   },
   "outputs": [],
   "source": [
    "subjects"
   ]
  },
  {
   "cell_type": "code",
   "execution_count": null,
   "id": "1ecfd5fb-e7b7-4bf0-b5fa-0f5994cd55fe",
   "metadata": {
    "tags": []
   },
   "outputs": [],
   "source": [
    "colors = ['g', 'r', 'c']\n",
    "for i in subjects:\n",
    "    plt.figure(figsize=(10,3))\n",
    "    for year,color in (zip(x_year,colors)):\n",
    "        df1=df_filtered[df_filtered.year==year][i].dropna()\n",
    "        sns.kdeplot(\n",
    "            data=df1,\n",
    "            label=f'Nam_{year}',\n",
    "            color=color,\n",
    "            bw_adjust=2\n",
    "        )\n",
    "    plt.title(f'Phân bố điểm {i} từ năm 2022 đến 2024')\n",
    "    plt.xlabel('Điểm số')\n",
    "    plt.ylabel('Mật độ')\n",
    "    plt.xticks(range(0,11,1))\n",
    "    plt.legend(title='Năm')\n",
    "    plt.grid(False)\n",
    "    plt.show()"
   ]
  },
  {
   "cell_type": "markdown",
   "id": "37ecb33c-9ea0-4ee0-b72a-9e83ae140944",
   "metadata": {},
   "source": [
    "### Group distribution"
   ]
  },
  {
   "cell_type": "code",
   "execution_count": null,
   "id": "6523b4be-4dec-4b9d-83a1-9022e1386559",
   "metadata": {
    "tags": []
   },
   "outputs": [],
   "source": [
    "df_filtered.head(5)"
   ]
  },
  {
   "cell_type": "code",
   "execution_count": null,
   "id": "6de6d962-6a6f-41ab-8505-7860a0dcad33",
   "metadata": {
    "tags": []
   },
   "outputs": [],
   "source": [
    "df_filtered['A']=df_filtered['toan']+df_filtered['vat_li']+df_filtered['hoa_hoc']\n",
    "df_filtered['A1']=df_filtered['toan']+df_filtered['vat_li']+df_filtered['ngoai_ngu']\n",
    "df_filtered['B']=df_filtered['toan']+df_filtered['sinh_hoc']+df_filtered['hoa_hoc']\n",
    "df_filtered['D']=df_filtered['toan']+df_filtered['ngu_van']+df_filtered['ngoai_ngu']\n",
    "df_filtered['C']=df_filtered['ngu_van']+df_filtered['lich_su']+df_filtered['dia_li']"
   ]
  },
  {
   "cell_type": "code",
   "execution_count": null,
   "id": "0a337c99-860d-4bb1-be8f-44d85657b696",
   "metadata": {
    "tags": []
   },
   "outputs": [],
   "source": [
    "df_filtered.head(5)"
   ]
  },
  {
   "cell_type": "code",
   "execution_count": null,
   "id": "e4f66e4f-3c19-456f-863e-13cfed4f3f51",
   "metadata": {
    "tags": []
   },
   "outputs": [],
   "source": [
    "combinations=['A','A1','B','C','D']"
   ]
  },
  {
   "cell_type": "code",
   "execution_count": null,
   "id": "9c04efc4-c849-487d-b2fd-004879e658a6",
   "metadata": {
    "tags": []
   },
   "outputs": [],
   "source": [
    "colors"
   ]
  },
  {
   "cell_type": "code",
   "execution_count": null,
   "id": "0ec83ac7-8516-4271-baf3-931a38245a4d",
   "metadata": {
    "tags": []
   },
   "outputs": [],
   "source": [
    "for i in combinations:\n",
    "    plt.figure(figsize=(10,3))\n",
    "    for year,color in (zip(x_year,colors)):\n",
    "        df2=df_filtered[df_filtered.year==year][i].dropna()\n",
    "        sns.kdeplot(\n",
    "            data=df2,\n",
    "            label=f'Nam_{year}',\n",
    "            color=color,\n",
    "            bw_adjust=2\n",
    "        )\n",
    "    plt.title(f'Phân bố điểm khối {i} từ năm 2022 đến 2024')\n",
    "    plt.xlabel('Điểm số')\n",
    "    plt.ylabel('Mật độ')\n",
    "    plt.legend(title='Năm')\n",
    "    plt.grid(False)\n",
    "    plt.show()"
   ]
  },
  {
   "cell_type": "code",
   "execution_count": null,
   "id": "a9ac31dc-381b-4a59-a8c4-122c7a9ae79d",
   "metadata": {
    "tags": []
   },
   "outputs": [],
   "source": [
    "fig, axes= plt.subplots(3,1, figsize=(8,5),sharex=True )\n",
    "\n",
    "for i,year in enumerate(x_year):\n",
    "    sns.histplot(\n",
    "        data=df_filtered[df_filtered.year==year]['A'].dropna(),\n",
    "        bins=30,\n",
    "        ax=axes[i],\n",
    "        kde=False,\n",
    "        edgecolor='black',\n",
    "        color='y'\n",
    "    )\n",
    "    axes[i].set_title(f'{year}')\n",
    "    axes[i].set_xlabel('Điểm_khối_A')\n",
    "    axes[i].set_ylabel('Số_lượng')\n",
    "    axes[i].set_xticks(range(0,31,1))\n",
    "    \n",
    "    df_A=df_filtered[df_filtered.year==year]['A'].dropna()\n",
    "    mean=df_A.mean()\n",
    "    median=df_A.median()\n",
    "    std=df_A.std()\n",
    "    Q1=df_A.quantile(0.25)\n",
    "    Q3=df_A.quantile(0.75)\n",
    "    p85=df_A.quantile(0.85)\n",
    "    p90=df_A.quantile(0.90)\n",
    "    p95=df_A.quantile(0.95)\n",
    "    p99=df_A.quantile(0.99)\n",
    "    \n",
    "    text_str=(\n",
    "        f'Mean= {mean:.2f}\\nMedian= {median:.2f}\\nSTD= {std:.2f}\\n'\n",
    "        f'Q1= {Q1:.2f}\\nQ3= {Q3:.2f}\\n'\n",
    "        f'P85= {p85:.2f}\\nP90= {p90:.2f}\\nP95= {p95:.2f}\\nP99= {p99:.2f}'\n",
    "    )\n",
    "    props=dict(boxstyle='round',facecolor='wheat',alpha=0.5)\n",
    "    axes[i].text(1.05, 0.5, text_str, transform=axes[i].transAxes, fontsize=8.5,\n",
    "                va='center', ha='left', bbox=props)\n",
    "plt.tight_layout()\n",
    "plt.show()"
   ]
  },
  {
   "cell_type": "code",
   "execution_count": null,
   "id": "abb8f4ee-0e6e-42ee-b02e-0db4458aa926",
   "metadata": {
    "tags": []
   },
   "outputs": [],
   "source": [
    "fig, axes= plt.subplots(3,1, figsize=(8,5),sharex=True )\n",
    "\n",
    "for i,year in enumerate(x_year):\n",
    "    sns.histplot(\n",
    "        data=df_filtered[df_filtered.year==year]['A1'].dropna(),\n",
    "        bins=30,\n",
    "        ax=axes[i],\n",
    "        kde=False,\n",
    "        edgecolor='black',\n",
    "        color='c'\n",
    "    )\n",
    "    axes[i].set_title(f'{year}')\n",
    "    axes[i].set_xlabel('Điểm_khối_A1')\n",
    "    axes[i].set_ylabel('Số_lượng')\n",
    "    axes[i].set_xticks(range(0,31,1))\n",
    "    \n",
    "    df_A1=df_filtered[df_filtered.year==year]['A1'].dropna()\n",
    "    mean=df_A1.mean()\n",
    "    median=df_A1.median()\n",
    "    std=df_A1.std()\n",
    "    Q1=df_A1.quantile(0.25)\n",
    "    Q3=df_A1.quantile(0.75)\n",
    "    p85=df_A1.quantile(0.85)\n",
    "    p90=df_A1.quantile(0.90)\n",
    "    p95=df_A1.quantile(0.95)\n",
    "    p99=df_A1.quantile(0.99)\n",
    "    \n",
    "    text_str=(\n",
    "        f'Mean= {mean:.2f}\\nMedian= {median:.2f}\\nSTD= {std:.2f}\\n'\n",
    "        f'Q1= {Q1:.2f}\\nQ3= {Q3:.2f}\\n'\n",
    "        f'P85= {p85:.2f}\\nP90= {p90:.2f}\\nP95= {p95:.2f}\\nP99= {p99:.2f}'\n",
    "    )\n",
    "    props=dict(boxstyle='round',facecolor='wheat',alpha=0.5)\n",
    "    axes[i].text(1.05, 0.5, text_str, transform=axes[i].transAxes, fontsize=8.5,\n",
    "                va='center', ha='left', bbox=props)\n",
    "plt.tight_layout()\n",
    "plt.show()"
   ]
  },
  {
   "cell_type": "code",
   "execution_count": null,
   "id": "fe729ed3-653b-4d90-8d03-fb988f950aaa",
   "metadata": {},
   "outputs": [],
   "source": [
    "fig, axes= plt.subplots(3,1, figsize=(8,5),sharex=True )\n",
    "\n",
    "for i,year in enumerate(x_year):\n",
    "    sns.histplot(\n",
    "        data=df_filtered[df_filtered.year==year]['B'].dropna(),\n",
    "        bins=30,\n",
    "        ax=axes[i],\n",
    "        kde=False,\n",
    "        edgecolor='black',\n",
    "        color='b'\n",
    "    )\n",
    "    axes[i].set_title(f'{year}')\n",
    "    axes[i].set_xlabel('Điểm_khối_B')\n",
    "    axes[i].set_ylabel('Số_lượng')\n",
    "    axes[i].set_xticks(range(0,31,1))\n",
    "    \n",
    "    df_B=df_filtered[df_filtered.year==year]['B'].dropna()\n",
    "    mean=df_B.mean()\n",
    "    median=df_B.median()\n",
    "    std=df_B.std()\n",
    "    Q1=df_B.quantile(0.25)\n",
    "    Q3=df_B.quantile(0.75)\n",
    "    p85=df_B.quantile(0.85)\n",
    "    p90=df_B.quantile(0.90)\n",
    "    p95=df_B.quantile(0.95)\n",
    "    p99=df_B.quantile(0.99)\n",
    "    \n",
    "    text_str=(\n",
    "        f'Mean= {mean:.2f}\\nMedian= {median:.2f}\\nSTD= {std:.2f}\\n'\n",
    "        f'Q1= {Q1:.2f}\\nQ3= {Q3:.2f}\\n'\n",
    "        f'P85= {p85:.2f}\\nP90= {p90:.2f}\\nP95= {p95:.2f}\\nP99= {p99:.2f}'\n",
    "    )\n",
    "    props=dict(boxstyle='round',facecolor='wheat',alpha=0.5)\n",
    "    axes[i].text(1.05, 0.5, text_str, transform=axes[i].transAxes, fontsize=8.5,\n",
    "                va='center', ha='left', bbox=props)\n",
    "plt.tight_layout()\n",
    "plt.show()"
   ]
  },
  {
   "cell_type": "code",
   "execution_count": null,
   "id": "5f7199c6-6ddd-4739-aec6-cf53a31230e3",
   "metadata": {},
   "outputs": [],
   "source": [
    "fig, axes= plt.subplots(3,1, figsize=(8,5),sharex=True )\n",
    "\n",
    "for i,year in enumerate(x_year):\n",
    "    sns.histplot(\n",
    "        data=df_filtered[df_filtered.year==year]['C'].dropna(),\n",
    "        bins=30,\n",
    "        ax=axes[i],\n",
    "        kde=False,\n",
    "        edgecolor='black',\n",
    "        color='orange'\n",
    "    )\n",
    "    axes[i].set_title(f'{year}')\n",
    "    axes[i].set_xlabel('Điểm_khối_C')\n",
    "    axes[i].set_ylabel('Số_lượng')\n",
    "    axes[i].set_xticks(range(0,31,1))\n",
    "    \n",
    "    df_C=df_filtered[df_filtered.year==year]['C'].dropna()\n",
    "    mean=df_C.mean()\n",
    "    median=df_C.median()\n",
    "    std=df_C.std()\n",
    "    Q1=df_C.quantile(0.25)\n",
    "    Q3=df_C.quantile(0.75)\n",
    "    p85=df_C.quantile(0.85)\n",
    "    p90=df_C.quantile(0.90)\n",
    "    p95=df_C.quantile(0.95)\n",
    "    p99=df_C.quantile(0.99)\n",
    "    \n",
    "    text_str=(\n",
    "        f'Mean= {mean:.2f}\\nMedian= {median:.2f}\\nSTD= {std:.2f}\\n'\n",
    "        f'Q1= {Q1:.2f}\\nQ3= {Q3:.2f}\\n'\n",
    "        f'P85= {p85:.2f}\\nP90= {p90:.2f}\\nP95= {p95:.2f}\\nP99= {p99:.2f}'\n",
    "    )\n",
    "    props=dict(boxstyle='round',facecolor='wheat',alpha=0.5)\n",
    "    axes[i].text(1.05, 0.5, text_str, transform=axes[i].transAxes, fontsize=8.5,\n",
    "                va='center', ha='left', bbox=props)\n",
    "plt.tight_layout()\n",
    "plt.show()"
   ]
  },
  {
   "cell_type": "code",
   "execution_count": null,
   "id": "e81debf6-ea26-4faa-a24f-8d53f99198c5",
   "metadata": {},
   "outputs": [],
   "source": [
    "fig, axes= plt.subplots(3,1, figsize=(8,5),sharex=True )\n",
    "\n",
    "for i,year in enumerate(x_year):\n",
    "    sns.histplot(\n",
    "        data=df_filtered[df_filtered.year==year]['D'].dropna(),\n",
    "        bins=30,\n",
    "        ax=axes[i],\n",
    "        kde=False,\n",
    "        edgecolor='black',\n",
    "        color='pink'\n",
    "    )\n",
    "    axes[i].set_title(f'{year}')\n",
    "    axes[i].set_xlabel('Điểm_khối_D')\n",
    "    axes[i].set_ylabel('Số_lượng')\n",
    "    axes[i].set_xticks(range(0,31,1))\n",
    "    \n",
    "    df_D=df_filtered[df_filtered.year==year]['D'].dropna()\n",
    "    mean=df_D.mean()\n",
    "    median=df_D.median()\n",
    "    std=df_D.std()\n",
    "    Q1=df_D.quantile(0.25)\n",
    "    Q3=df_D.quantile(0.75)\n",
    "    p85=df_D.quantile(0.85)\n",
    "    p90=df_D.quantile(0.90)\n",
    "    p95=df_D.quantile(0.95)\n",
    "    p99=df_D.quantile(0.99)\n",
    "    \n",
    "    text_str=(\n",
    "        f'Mean= {mean:.2f}\\nMedian= {median:.2f}\\nSTD= {std:.2f}\\n'\n",
    "        f'Q1= {Q1:.2f}\\nQ3= {Q3:.2f}\\n'\n",
    "        f'P85= {p85:.2f}\\nP90= {p90:.2f}\\nP95= {p95:.2f}\\nP99= {p99:.2f}'\n",
    "    )\n",
    "    props=dict(boxstyle='round',facecolor='wheat',alpha=0.5)\n",
    "    axes[i].text(1.05, 0.5, text_str, transform=axes[i].transAxes, fontsize=8.5,\n",
    "                va='center', ha='left', bbox=props)\n",
    "plt.tight_layout()\n",
    "plt.show()"
   ]
  },
  {
   "cell_type": "markdown",
   "id": "650e26af-5354-4ab0-b33f-355f17f7423a",
   "metadata": {
    "tags": []
   },
   "source": [
    "### Correlation"
   ]
  },
  {
   "cell_type": "code",
   "execution_count": null,
   "id": "e47fc855-69ea-47df-93f8-f084174294e6",
   "metadata": {
    "tags": []
   },
   "outputs": [],
   "source": [
    "df_2024=sampled_data[sampled_data.year==2024]"
   ]
  },
  {
   "cell_type": "code",
   "execution_count": null,
   "id": "040160aa-45e2-4b47-93e5-b0766038d8f9",
   "metadata": {
    "tags": []
   },
   "outputs": [],
   "source": [
    "subject_score_2024=df_2024[['toan',\n",
    " 'ngu_van',\n",
    " 'ngoai_ngu',\n",
    " 'vat_li',\n",
    " 'hoa_hoc',\n",
    " 'sinh_hoc',\n",
    " 'lich_su',\n",
    " 'dia_li','gdcd']]"
   ]
  },
  {
   "cell_type": "code",
   "execution_count": null,
   "id": "19a7358f-ae35-4d7b-bd87-4a7c1b2babc7",
   "metadata": {
    "tags": []
   },
   "outputs": [],
   "source": [
    "corr_matrix=subject_score_2024.corr()\n",
    "corr_matrix"
   ]
  },
  {
   "cell_type": "code",
   "execution_count": null,
   "id": "6f75ca34-1087-43ca-a6db-dd7544dab342",
   "metadata": {
    "tags": []
   },
   "outputs": [],
   "source": [
    "plt.figure(figsize=(10,6))\n",
    "sns.heatmap(\n",
    "    data=corr_matrix,\n",
    "    annot=True,\n",
    "    cmap='YlGn',\n",
    "    fmt='.2f'\n",
    ")\n",
    "plt.title('Sự tương quan giữa các môn học năm 2024',loc='left',fontsize=15)\n",
    "plt.show()"
   ]
  },
  {
   "cell_type": "code",
   "execution_count": null,
   "id": "ab03c2dd-9b49-4da0-bf3a-087298574a98",
   "metadata": {
    "tags": []
   },
   "outputs": [],
   "source": [
    "df_filtered.head(5)"
   ]
  },
  {
   "cell_type": "code",
   "execution_count": null,
   "id": "5c295fda-4358-4b51-8fea-24294a957bca",
   "metadata": {
    "tags": []
   },
   "outputs": [],
   "source": [
    "df1_2024=df_filtered[df_filtered.year==2024]"
   ]
  },
  {
   "cell_type": "code",
   "execution_count": null,
   "id": "3aab073e-9ae0-4cbd-8980-cbfdac900803",
   "metadata": {
    "tags": []
   },
   "outputs": [],
   "source": [
    "df1_2024.info()"
   ]
  },
  {
   "cell_type": "code",
   "execution_count": null,
   "id": "e1ce2a86-c8cf-423f-949c-1d9ce67c799a",
   "metadata": {
    "tags": []
   },
   "outputs": [],
   "source": [
    "group_score=df1_2024[['A','A1','B','C','D']]"
   ]
  },
  {
   "cell_type": "code",
   "execution_count": null,
   "id": "a1d0de88-977d-4d9f-9701-7592d2031a5b",
   "metadata": {
    "tags": []
   },
   "outputs": [],
   "source": [
    "corr_matrix2=group_score.corr()\n",
    "corr_matrix2"
   ]
  },
  {
   "cell_type": "code",
   "execution_count": null,
   "id": "eef50b65-a12d-443b-b283-1d066758cea9",
   "metadata": {
    "tags": []
   },
   "outputs": [],
   "source": [
    "sns.heatmap(\n",
    "    data=corr_matrix2,\n",
    "    annot=True,\n",
    "    cmap='YlGn',\n",
    "    fmt='.2f'\n",
    ")\n",
    "plt.title('Sự tương quan giữa các khối thi năm 2024')\n",
    "plt.show()"
   ]
  },
  {
   "cell_type": "code",
   "execution_count": null,
   "id": "1a561fab-7a96-4c9e-9e0d-e66411e51fd4",
   "metadata": {
    "tags": []
   },
   "outputs": [],
   "source": [
    "x_year"
   ]
  },
  {
   "cell_type": "code",
   "execution_count": null,
   "id": "cf0394ba-1a3e-4678-8fec-73c3ed49fd60",
   "metadata": {
    "tags": []
   },
   "outputs": [],
   "source": [
    "fig,axes=plt.subplots(2,2,figsize=(12,6))\n",
    "axes=axes.flatten()\n",
    "for i,year in enumerate(x_year):\n",
    "    df_year=df_filtered[df_filtered.year==year]\n",
    "    group_score=df_year[['A','A1','B','C','D']]\n",
    "    corr_mtr=group_score.corr()\n",
    "    sns.heatmap(\n",
    "    data=corr_mtr,\n",
    "    annot=True,\n",
    "    cmap='YlGn',\n",
    "    fmt='.2f',\n",
    "    ax=axes[i]\n",
    "    )\n",
    "    axes[i].set_title(f'Sự tương quan giữa các khối trong năm {year}')\n",
    "plt.tight_layout()\n",
    "plt.show()"
   ]
  },
  {
   "cell_type": "code",
   "execution_count": null,
   "id": "9167d74d-7bd5-4830-b829-df91e35076ef",
   "metadata": {
    "tags": []
   },
   "outputs": [],
   "source": [
    "# Nguyen_Manh_Khang"
   ]
  },
  {
   "cell_type": "code",
   "execution_count": null,
   "id": "97abed4a-63bc-493f-b3bd-64b80db519e8",
   "metadata": {},
   "outputs": [],
   "source": []
  }
 ],
 "metadata": {
  "kernelspec": {
   "display_name": "Python 3 (ipykernel)",
   "language": "python",
   "name": "python3"
  },
  "language_info": {
   "codemirror_mode": {
    "name": "ipython",
    "version": 3
   },
   "file_extension": ".py",
   "mimetype": "text/x-python",
   "name": "python",
   "nbconvert_exporter": "python",
   "pygments_lexer": "ipython3",
   "version": "3.11.5"
  }
 },
 "nbformat": 4,
 "nbformat_minor": 5
}
